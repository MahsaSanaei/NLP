{
 "cells": [
  {
   "cell_type": "markdown",
   "metadata": {},
   "source": [
    "# Stop Words\n",
    "Words like \"a\" and \"the\" appear so frequently that they don't require tagging as thoroughly as nouns, verbs and modifiers. We call these *stop words*, and they can be filtered from the text to be processed. spaCy holds a built-in list of some 305 English stop words."
   ]
  },
  {
   "cell_type": "code",
   "execution_count": 1,
   "metadata": {},
   "outputs": [],
   "source": [
    "%config IPCompleter.greedy=True"
   ]
  },
  {
   "cell_type": "code",
   "execution_count": 2,
   "metadata": {},
   "outputs": [],
   "source": [
    "# Perform standard imports:\n",
    "import spacy\n",
    "nlp = spacy.load('en_core_web_sm')"
   ]
  },
  {
   "cell_type": "code",
   "execution_count": 3,
   "metadata": {},
   "outputs": [
    {
     "name": "stdout",
     "output_type": "stream",
     "text": [
      "{'should', 'whose', 'as', 'due', 'sometime', 'in', 're', 'until', 'nevertheless', 'out', 'very', 'perhaps', 'them', 'put', 'give', 'nothing', '‘ve', 'empty', 'forty', 'namely', 'n’t', '‘ll', \"'re\", 'one', 'beside', 'besides', 'hereby', 'please', 'such', 'via', 'off', '’ll', 'without', 'all', 'eight', 'else', 'together', 'another', 'whole', 'full', 'thereafter', \"'ll\", '’m', 'which', 'my', '‘m', 'becoming', 'keep', 'is', 'doing', 'enough', 'whereafter', 'somehow', 'who', '’s', 'those', 'call', 'some', 'during', 'hereupon', 'a', 'than', 'ca', 'these', 'amount', 'ten', 'amongst', 'yet', 'of', 'though', 'former', 'three', \"'s\", \"'d\", 'each', 'why', 'almost', 'everyone', 'thru', 'was', 'have', 'beforehand', 'seems', 'hence', 'neither', 'whether', 'nine', 'myself', 'always', 'back', 'move', 'into', 'if', 'even', 'others', 'where', 'our', 'become', 'bottom', 'latter', 'however', 'upon', 'below', 'everywhere', \"n't\", 'how', 'within', 'can', 'unless', 'over', 'or', 'not', 'throughout', 'there', 'latterly', 'show', 'this', 'had', 'fifteen', 'least', 'mostly', 'becomes', 'few', 'her', 'thus', 'front', 'otherwise', 'we', 'be', 'by', 'whatever', 'it', '’re', 'wherever', 'say', 'ever', 'twenty', 'itself', 'six', 'will', 'he', 'see', 'top', 'were', 'do', 'with', 'toward', 'really', 'made', 'done', 'regarding', 'that', 'nowhere', 'me', 'ourselves', 'anyone', 'sixty', 'what', 'often', 'side', 'therein', 'never', 'whereas', 'now', 'own', 'the', 'using', 'hers', \"'ve\", 'various', 'noone', 'quite', 'among', 'am', 'well', 'along', 'may', 'about', 'alone', 'down', 'up', 'less', 'must', 'then', 'every', 'many', 'between', 'afterwards', 'beyond', 'while', 'at', 'more', 'first', 'before', 'behind', 'except', 'n‘t', '‘s', 'next', 'seem', '’d', 'does', 'only', 'still', 'because', 'anyhow', 'everything', 'five', 'us', 'moreover', 'yours', 'hereafter', 'last', 'herself', 'when', 'did', 'indeed', 'his', 'again', 'nor', 'your', 'around', 'i', 'no', 'someone', 'fifty', 'third', 'two', 'although', 'whom', 'therefore', 'against', 'onto', '’ve', 'their', 'name', 'anyway', 'twelve', 'thence', 'part', 'would', 'most', 'wherein', 'whence', 'either', 'go', 'above', 'somewhere', 'to', 'might', 'other', 'themselves', 'are', 'meanwhile', 'on', 'too', 'been', 'whereby', 'just', 'rather', 'take', 'several', 'anything', 'whenever', 'himself', 'and', 'but', 'herein', 'once', 'they', 'seemed', 'thereby', 'whither', 'four', 'its', 'across', '‘d', 'for', 'ours', 'from', 'something', 'whereupon', 'mine', 'seeming', 'eleven', 'him', 'cannot', \"'m\", 'per', 'has', 'so', 'being', 'under', 'yourselves', 'since', 'serious', 'also', 'she', 'already', 'you', 'nobody', 'here', 'any', 'an', 'hundred', 'whoever', 'anywhere', 'towards', 'both', 'through', 'same', 'further', 'sometimes', 'make', 'none', 'thereupon', 'could', 'get', 'became', 'elsewhere', 'much', 'used', 'after', 'yourself', '‘re', 'formerly'}\n"
     ]
    }
   ],
   "source": [
    "# Print the set of spaCy's default stop words (remember that sets are unordered):\n",
    "print(nlp.Defaults.stop_words)"
   ]
  },
  {
   "cell_type": "code",
   "execution_count": 4,
   "metadata": {},
   "outputs": [
    {
     "data": {
      "text/plain": [
       "326"
      ]
     },
     "execution_count": 4,
     "metadata": {},
     "output_type": "execute_result"
    }
   ],
   "source": [
    "len(nlp.Defaults.stop_words)"
   ]
  },
  {
   "cell_type": "markdown",
   "metadata": {},
   "source": [
    "## To see if a word is a stop word"
   ]
  },
  {
   "cell_type": "code",
   "execution_count": 5,
   "metadata": {},
   "outputs": [
    {
     "data": {
      "text/plain": [
       "True"
      ]
     },
     "execution_count": 5,
     "metadata": {},
     "output_type": "execute_result"
    }
   ],
   "source": [
    "nlp.vocab['myself'].is_stop"
   ]
  },
  {
   "cell_type": "code",
   "execution_count": 6,
   "metadata": {},
   "outputs": [
    {
     "data": {
      "text/plain": [
       "False"
      ]
     },
     "execution_count": 6,
     "metadata": {},
     "output_type": "execute_result"
    }
   ],
   "source": [
    "nlp.vocab['mystery'].is_stop"
   ]
  },
  {
   "cell_type": "markdown",
   "metadata": {},
   "source": [
    "## To add a stop word\n",
    "There may be times when you wish to add a stop word to the default set. Perhaps you decide that `'btw'` (common shorthand for \"by the way\") should be considered a stop word."
   ]
  },
  {
   "cell_type": "code",
   "execution_count": 8,
   "metadata": {},
   "outputs": [],
   "source": [
    "# Add the word to the set of stop words. Use lowercase!\n",
    "nlp.Defaults.stop_words.add('btw')\n",
    "\n",
    "# Set the stop_word tag on the lexeme\n",
    "nlp.vocab['btw'].is_stop=True"
   ]
  },
  {
   "cell_type": "code",
   "execution_count": 9,
   "metadata": {},
   "outputs": [
    {
     "data": {
      "text/plain": [
       "327"
      ]
     },
     "execution_count": 9,
     "metadata": {},
     "output_type": "execute_result"
    }
   ],
   "source": [
    "len(nlp.Defaults.stop_words)"
   ]
  },
  {
   "cell_type": "code",
   "execution_count": 10,
   "metadata": {},
   "outputs": [
    {
     "data": {
      "text/plain": [
       "True"
      ]
     },
     "execution_count": 10,
     "metadata": {},
     "output_type": "execute_result"
    }
   ],
   "source": [
    "nlp.vocab['btw'].is_stop"
   ]
  },
  {
   "cell_type": "markdown",
   "metadata": {},
   "source": [
    "<font color=green>When adding stop words, always use lowercase. Lexemes are converted to lowercase before being added to **vocab**.</font>"
   ]
  },
  {
   "cell_type": "markdown",
   "metadata": {},
   "source": [
    "## To remove a stop word\n",
    "Alternatively, you may decide that `'beyond'` should not be considered a stop word."
   ]
  },
  {
   "cell_type": "code",
   "execution_count": 11,
   "metadata": {},
   "outputs": [],
   "source": [
    "# Remove the word from the set of stop words\n",
    "nlp.Defaults.stop_words.remove('beyond')\n",
    "\n",
    "# Remove the stop_word tag from the lexeme\n",
    "nlp.vocab['beyond'].is_stop = False"
   ]
  },
  {
   "cell_type": "code",
   "execution_count": 12,
   "metadata": {},
   "outputs": [
    {
     "data": {
      "text/plain": [
       "326"
      ]
     },
     "execution_count": 12,
     "metadata": {},
     "output_type": "execute_result"
    }
   ],
   "source": [
    "len(nlp.Defaults.stop_words)"
   ]
  },
  {
   "cell_type": "code",
   "execution_count": 13,
   "metadata": {},
   "outputs": [
    {
     "data": {
      "text/plain": [
       "False"
      ]
     },
     "execution_count": 13,
     "metadata": {},
     "output_type": "execute_result"
    }
   ],
   "source": [
    "nlp.vocab['beyond'].is_stop"
   ]
  },
  {
   "cell_type": "markdown",
   "metadata": {},
   "source": [
    "## Next up: Vocabulary and Matching"
   ]
  }
 ],
 "metadata": {
  "kernelspec": {
   "display_name": "Python 3",
   "language": "python",
   "name": "python3"
  },
  "language_info": {
   "codemirror_mode": {
    "name": "ipython",
    "version": 3
   },
   "file_extension": ".py",
   "mimetype": "text/x-python",
   "name": "python",
   "nbconvert_exporter": "python",
   "pygments_lexer": "ipython3",
   "version": "3.7.4"
  }
 },
 "nbformat": 4,
 "nbformat_minor": 2
}
