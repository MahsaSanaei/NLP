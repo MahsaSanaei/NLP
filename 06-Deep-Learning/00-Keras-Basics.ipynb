{
 "cells": [
  {
   "cell_type": "markdown",
   "metadata": {},
   "source": [
    "# Keras Basics\n",
    "\n",
    "We'll be using Keras with a TensorFlow backend to perform our deep learning operations."
   ]
  },
  {
   "cell_type": "code",
   "execution_count": 1,
   "metadata": {},
   "outputs": [],
   "source": [
    "import numpy as np"
   ]
  },
  {
   "cell_type": "markdown",
   "metadata": {},
   "source": [
    "## Dataset\n",
    "\n",
    "We will use the famous Iris Data set.\n",
    "_____\n",
    "More info on the data set:\n",
    "https://en.wikipedia.org/wiki/Iris_flower_data_set\n",
    "\n",
    "## Reading in the Data Set"
   ]
  },
  {
   "cell_type": "code",
   "execution_count": 2,
   "metadata": {},
   "outputs": [],
   "source": [
    "from sklearn.datasets import load_iris"
   ]
  },
  {
   "cell_type": "code",
   "execution_count": 3,
   "metadata": {},
   "outputs": [],
   "source": [
    "iris = load_iris()"
   ]
  },
  {
   "cell_type": "code",
   "execution_count": 4,
   "metadata": {},
   "outputs": [
    {
     "data": {
      "text/plain": [
       "sklearn.utils.Bunch"
      ]
     },
     "execution_count": 4,
     "metadata": {},
     "output_type": "execute_result"
    }
   ],
   "source": [
    "type(iris)"
   ]
  },
  {
   "cell_type": "code",
   "execution_count": 5,
   "metadata": {},
   "outputs": [
    {
     "name": "stdout",
     "output_type": "stream",
     "text": [
      ".. _iris_dataset:\n",
      "\n",
      "Iris plants dataset\n",
      "--------------------\n",
      "\n",
      "**Data Set Characteristics:**\n",
      "\n",
      "    :Number of Instances: 150 (50 in each of three classes)\n",
      "    :Number of Attributes: 4 numeric, predictive attributes and the class\n",
      "    :Attribute Information:\n",
      "        - sepal length in cm\n",
      "        - sepal width in cm\n",
      "        - petal length in cm\n",
      "        - petal width in cm\n",
      "        - class:\n",
      "                - Iris-Setosa\n",
      "                - Iris-Versicolour\n",
      "                - Iris-Virginica\n",
      "                \n",
      "    :Summary Statistics:\n",
      "\n",
      "    ============== ==== ==== ======= ===== ====================\n",
      "                    Min  Max   Mean    SD   Class Correlation\n",
      "    ============== ==== ==== ======= ===== ====================\n",
      "    sepal length:   4.3  7.9   5.84   0.83    0.7826\n",
      "    sepal width:    2.0  4.4   3.05   0.43   -0.4194\n",
      "    petal length:   1.0  6.9   3.76   1.76    0.9490  (high!)\n",
      "    petal width:    0.1  2.5   1.20   0.76    0.9565  (high!)\n",
      "    ============== ==== ==== ======= ===== ====================\n",
      "\n",
      "    :Missing Attribute Values: None\n",
      "    :Class Distribution: 33.3% for each of 3 classes.\n",
      "    :Creator: R.A. Fisher\n",
      "    :Donor: Michael Marshall (MARSHALL%PLU@io.arc.nasa.gov)\n",
      "    :Date: July, 1988\n",
      "\n",
      "The famous Iris database, first used by Sir R.A. Fisher. The dataset is taken\n",
      "from Fisher's paper. Note that it's the same as in R, but not as in the UCI\n",
      "Machine Learning Repository, which has two wrong data points.\n",
      "\n",
      "This is perhaps the best known database to be found in the\n",
      "pattern recognition literature.  Fisher's paper is a classic in the field and\n",
      "is referenced frequently to this day.  (See Duda & Hart, for example.)  The\n",
      "data set contains 3 classes of 50 instances each, where each class refers to a\n",
      "type of iris plant.  One class is linearly separable from the other 2; the\n",
      "latter are NOT linearly separable from each other.\n",
      "\n",
      ".. topic:: References\n",
      "\n",
      "   - Fisher, R.A. \"The use of multiple measurements in taxonomic problems\"\n",
      "     Annual Eugenics, 7, Part II, 179-188 (1936); also in \"Contributions to\n",
      "     Mathematical Statistics\" (John Wiley, NY, 1950).\n",
      "   - Duda, R.O., & Hart, P.E. (1973) Pattern Classification and Scene Analysis.\n",
      "     (Q327.D83) John Wiley & Sons.  ISBN 0-471-22361-1.  See page 218.\n",
      "   - Dasarathy, B.V. (1980) \"Nosing Around the Neighborhood: A New System\n",
      "     Structure and Classification Rule for Recognition in Partially Exposed\n",
      "     Environments\".  IEEE Transactions on Pattern Analysis and Machine\n",
      "     Intelligence, Vol. PAMI-2, No. 1, 67-71.\n",
      "   - Gates, G.W. (1972) \"The Reduced Nearest Neighbor Rule\".  IEEE Transactions\n",
      "     on Information Theory, May 1972, 431-433.\n",
      "   - See also: 1988 MLC Proceedings, 54-64.  Cheeseman et al\"s AUTOCLASS II\n",
      "     conceptual clustering system finds 3 classes in the data.\n",
      "   - Many, many more ...\n"
     ]
    }
   ],
   "source": [
    "print(iris.DESCR)"
   ]
  },
  {
   "cell_type": "code",
   "execution_count": 6,
   "metadata": {},
   "outputs": [],
   "source": [
    "X = iris.data"
   ]
  },
  {
   "cell_type": "code",
   "execution_count": 7,
   "metadata": {},
   "outputs": [],
   "source": [
    "y = iris.target"
   ]
  },
  {
   "cell_type": "code",
   "execution_count": 8,
   "metadata": {},
   "outputs": [
    {
     "data": {
      "text/plain": [
       "array([0, 0, 0, 0, 0, 0, 0, 0, 0, 0, 0, 0, 0, 0, 0, 0, 0, 0, 0, 0, 0, 0,\n",
       "       0, 0, 0, 0, 0, 0, 0, 0, 0, 0, 0, 0, 0, 0, 0, 0, 0, 0, 0, 0, 0, 0,\n",
       "       0, 0, 0, 0, 0, 0, 1, 1, 1, 1, 1, 1, 1, 1, 1, 1, 1, 1, 1, 1, 1, 1,\n",
       "       1, 1, 1, 1, 1, 1, 1, 1, 1, 1, 1, 1, 1, 1, 1, 1, 1, 1, 1, 1, 1, 1,\n",
       "       1, 1, 1, 1, 1, 1, 1, 1, 1, 1, 1, 1, 2, 2, 2, 2, 2, 2, 2, 2, 2, 2,\n",
       "       2, 2, 2, 2, 2, 2, 2, 2, 2, 2, 2, 2, 2, 2, 2, 2, 2, 2, 2, 2, 2, 2,\n",
       "       2, 2, 2, 2, 2, 2, 2, 2, 2, 2, 2, 2, 2, 2, 2, 2, 2, 2])"
      ]
     },
     "execution_count": 8,
     "metadata": {},
     "output_type": "execute_result"
    }
   ],
   "source": [
    "y"
   ]
  },
  {
   "cell_type": "code",
   "execution_count": 9,
   "metadata": {},
   "outputs": [
    {
     "name": "stderr",
     "output_type": "stream",
     "text": [
      "Using TensorFlow backend.\n"
     ]
    }
   ],
   "source": [
    "from keras.utils import to_categorical"
   ]
  },
  {
   "cell_type": "code",
   "execution_count": 10,
   "metadata": {},
   "outputs": [],
   "source": [
    "y = to_categorical(y)"
   ]
  },
  {
   "cell_type": "code",
   "execution_count": 11,
   "metadata": {},
   "outputs": [
    {
     "data": {
      "text/plain": [
       "(150, 3)"
      ]
     },
     "execution_count": 11,
     "metadata": {},
     "output_type": "execute_result"
    }
   ],
   "source": [
    "y.shape"
   ]
  },
  {
   "cell_type": "code",
   "execution_count": 12,
   "metadata": {},
   "outputs": [],
   "source": [
    "#y"
   ]
  },
  {
   "cell_type": "markdown",
   "metadata": {},
   "source": [
    "## Split the Data into Training and Test\n",
    "\n",
    "Its time to split the data into a train/test set. Keep in mind, sometimes people like to split 3 ways, train/test/validation. We'll keep things simple for now. **Remember to check out the video explanation as to why we split and what all the parameters mean!**"
   ]
  },
  {
   "cell_type": "code",
   "execution_count": 13,
   "metadata": {},
   "outputs": [],
   "source": [
    "from sklearn.model_selection import train_test_split"
   ]
  },
  {
   "cell_type": "code",
   "execution_count": 14,
   "metadata": {},
   "outputs": [],
   "source": [
    "X_train, X_test, y_train, y_test = train_test_split(X, y, test_size=0.33, random_state=42)"
   ]
  },
  {
   "cell_type": "markdown",
   "metadata": {},
   "source": [
    "## Standardizing the Data\n",
    "\n",
    "Usually when using Neural Networks, you will get better performance when you standardize the data. Standardization just means normalizing the values to all fit between a certain range, like 0-1, or -1 to 1.\n",
    "\n",
    "The scikit learn library also provides a nice function for this.\n",
    "\n",
    "http://scikit-learn.org/stable/modules/generated/sklearn.preprocessing.MinMaxScaler.html"
   ]
  },
  {
   "cell_type": "code",
   "execution_count": 15,
   "metadata": {},
   "outputs": [],
   "source": [
    "from sklearn.preprocessing import MinMaxScaler"
   ]
  },
  {
   "cell_type": "code",
   "execution_count": 16,
   "metadata": {},
   "outputs": [],
   "source": [
    "scaler_object = MinMaxScaler()"
   ]
  },
  {
   "cell_type": "code",
   "execution_count": 17,
   "metadata": {},
   "outputs": [
    {
     "data": {
      "text/plain": [
       "MinMaxScaler()"
      ]
     },
     "execution_count": 17,
     "metadata": {},
     "output_type": "execute_result"
    }
   ],
   "source": [
    "scaler_object.fit(X_train)"
   ]
  },
  {
   "cell_type": "code",
   "execution_count": 18,
   "metadata": {},
   "outputs": [],
   "source": [
    "scaled_X_train = scaler_object.transform(X_train)"
   ]
  },
  {
   "cell_type": "code",
   "execution_count": 19,
   "metadata": {},
   "outputs": [],
   "source": [
    "scaled_X_test = scaler_object.transform(X_test)"
   ]
  },
  {
   "cell_type": "code",
   "execution_count": 20,
   "metadata": {},
   "outputs": [
    {
     "data": {
      "text/plain": [
       "7.7"
      ]
     },
     "execution_count": 20,
     "metadata": {},
     "output_type": "execute_result"
    }
   ],
   "source": [
    "X_train.max()"
   ]
  },
  {
   "cell_type": "code",
   "execution_count": 21,
   "metadata": {},
   "outputs": [
    {
     "data": {
      "text/plain": [
       "1.0"
      ]
     },
     "execution_count": 21,
     "metadata": {},
     "output_type": "execute_result"
    }
   ],
   "source": [
    "scaled_X_train.max()"
   ]
  },
  {
   "cell_type": "code",
   "execution_count": 23,
   "metadata": {},
   "outputs": [],
   "source": [
    "#X_train"
   ]
  },
  {
   "cell_type": "code",
   "execution_count": 24,
   "metadata": {},
   "outputs": [],
   "source": [
    "#scaled_X_train"
   ]
  },
  {
   "cell_type": "markdown",
   "metadata": {},
   "source": [
    "## Building the Network with Keras\n",
    "\n",
    "Let's build a simple neural network!"
   ]
  },
  {
   "cell_type": "code",
   "execution_count": 25,
   "metadata": {},
   "outputs": [],
   "source": [
    "from keras.models import Sequential\n",
    "from keras.layers import Dense"
   ]
  },
  {
   "cell_type": "code",
   "execution_count": 26,
   "metadata": {},
   "outputs": [],
   "source": [
    "model = Sequential()\n",
    "model.add(Dense(8, input_dim=4, activation='relu'))\n",
    "model.add(Dense(8, input_dim=4, activation='relu'))\n",
    "model.add(Dense(3, activation='softmax'))\n",
    "model.compile(loss='categorical_crossentropy', optimizer='adam', metrics=['accuracy'])"
   ]
  },
  {
   "cell_type": "code",
   "execution_count": 27,
   "metadata": {},
   "outputs": [
    {
     "name": "stdout",
     "output_type": "stream",
     "text": [
      "Model: \"sequential_1\"\n",
      "_________________________________________________________________\n",
      "Layer (type)                 Output Shape              Param #   \n",
      "=================================================================\n",
      "dense_1 (Dense)              (None, 8)                 40        \n",
      "_________________________________________________________________\n",
      "dense_2 (Dense)              (None, 8)                 72        \n",
      "_________________________________________________________________\n",
      "dense_3 (Dense)              (None, 3)                 27        \n",
      "=================================================================\n",
      "Total params: 139\n",
      "Trainable params: 139\n",
      "Non-trainable params: 0\n",
      "_________________________________________________________________\n"
     ]
    }
   ],
   "source": [
    "model.summary()"
   ]
  },
  {
   "cell_type": "markdown",
   "metadata": {},
   "source": [
    "## Fit (Train) the Model"
   ]
  },
  {
   "cell_type": "code",
   "execution_count": 29,
   "metadata": {},
   "outputs": [
    {
     "name": "stdout",
     "output_type": "stream",
     "text": [
      "Epoch 1/150\n",
      " - 0s - loss: 1.0667 - accuracy: 0.3100\n",
      "Epoch 2/150\n",
      " - 0s - loss: 1.0580 - accuracy: 0.3100\n",
      "Epoch 3/150\n",
      " - 0s - loss: 1.0496 - accuracy: 0.3100\n",
      "Epoch 4/150\n",
      " - 0s - loss: 1.0413 - accuracy: 0.3200\n",
      "Epoch 5/150\n",
      " - 0s - loss: 1.0325 - accuracy: 0.3200\n",
      "Epoch 6/150\n",
      " - 0s - loss: 1.0233 - accuracy: 0.3400\n",
      "Epoch 7/150\n",
      " - 0s - loss: 1.0133 - accuracy: 0.3500\n",
      "Epoch 8/150\n",
      " - 0s - loss: 1.0033 - accuracy: 0.3600\n",
      "Epoch 9/150\n",
      " - 0s - loss: 0.9931 - accuracy: 0.3800\n",
      "Epoch 10/150\n",
      " - 0s - loss: 0.9827 - accuracy: 0.4200\n",
      "Epoch 11/150\n",
      " - 0s - loss: 0.9720 - accuracy: 0.5100\n",
      "Epoch 12/150\n",
      " - 0s - loss: 0.9615 - accuracy: 0.5400\n",
      "Epoch 13/150\n",
      " - 0s - loss: 0.9511 - accuracy: 0.5900\n",
      "Epoch 14/150\n",
      " - 0s - loss: 0.9409 - accuracy: 0.6100\n",
      "Epoch 15/150\n",
      " - 0s - loss: 0.9310 - accuracy: 0.6300\n",
      "Epoch 16/150\n",
      " - 0s - loss: 0.9215 - accuracy: 0.6300\n",
      "Epoch 17/150\n",
      " - 0s - loss: 0.9115 - accuracy: 0.6400\n",
      "Epoch 18/150\n",
      " - 0s - loss: 0.9021 - accuracy: 0.6400\n",
      "Epoch 19/150\n",
      " - 0s - loss: 0.8923 - accuracy: 0.6400\n",
      "Epoch 20/150\n",
      " - 0s - loss: 0.8827 - accuracy: 0.6400\n",
      "Epoch 21/150\n",
      " - 0s - loss: 0.8728 - accuracy: 0.6400\n",
      "Epoch 22/150\n",
      " - 0s - loss: 0.8629 - accuracy: 0.6400\n",
      "Epoch 23/150\n",
      " - 0s - loss: 0.8532 - accuracy: 0.6400\n",
      "Epoch 24/150\n",
      " - 0s - loss: 0.8430 - accuracy: 0.6400\n",
      "Epoch 25/150\n",
      " - 0s - loss: 0.8333 - accuracy: 0.6400\n",
      "Epoch 26/150\n",
      " - 0s - loss: 0.8236 - accuracy: 0.6400\n",
      "Epoch 27/150\n",
      " - 0s - loss: 0.8138 - accuracy: 0.6400\n",
      "Epoch 28/150\n",
      " - 0s - loss: 0.8039 - accuracy: 0.6400\n",
      "Epoch 29/150\n",
      " - 0s - loss: 0.7941 - accuracy: 0.6400\n",
      "Epoch 30/150\n",
      " - 0s - loss: 0.7846 - accuracy: 0.6400\n",
      "Epoch 31/150\n",
      " - 0s - loss: 0.7750 - accuracy: 0.6400\n",
      "Epoch 32/150\n",
      " - 0s - loss: 0.7655 - accuracy: 0.6400\n",
      "Epoch 33/150\n",
      " - 0s - loss: 0.7560 - accuracy: 0.6400\n",
      "Epoch 34/150\n",
      " - 0s - loss: 0.7467 - accuracy: 0.6400\n",
      "Epoch 35/150\n",
      " - 0s - loss: 0.7375 - accuracy: 0.6400\n",
      "Epoch 36/150\n",
      " - 0s - loss: 0.7281 - accuracy: 0.6400\n",
      "Epoch 37/150\n",
      " - 0s - loss: 0.7193 - accuracy: 0.6400\n",
      "Epoch 38/150\n",
      " - 0s - loss: 0.7105 - accuracy: 0.6400\n",
      "Epoch 39/150\n",
      " - 0s - loss: 0.7022 - accuracy: 0.6400\n",
      "Epoch 40/150\n",
      " - 0s - loss: 0.6944 - accuracy: 0.6400\n",
      "Epoch 41/150\n",
      " - 0s - loss: 0.6864 - accuracy: 0.6500\n",
      "Epoch 42/150\n",
      " - 0s - loss: 0.6788 - accuracy: 0.6500\n",
      "Epoch 43/150\n",
      " - 0s - loss: 0.6713 - accuracy: 0.6500\n",
      "Epoch 44/150\n",
      " - 0s - loss: 0.6641 - accuracy: 0.6500\n",
      "Epoch 45/150\n",
      " - 0s - loss: 0.6570 - accuracy: 0.6500\n",
      "Epoch 46/150\n",
      " - 0s - loss: 0.6504 - accuracy: 0.6500\n",
      "Epoch 47/150\n",
      " - 0s - loss: 0.6441 - accuracy: 0.6500\n",
      "Epoch 48/150\n",
      " - 0s - loss: 0.6378 - accuracy: 0.6500\n",
      "Epoch 49/150\n",
      " - 0s - loss: 0.6317 - accuracy: 0.6500\n",
      "Epoch 50/150\n",
      " - 0s - loss: 0.6260 - accuracy: 0.6500\n",
      "Epoch 51/150\n",
      " - 0s - loss: 0.6206 - accuracy: 0.6500\n",
      "Epoch 52/150\n",
      " - 0s - loss: 0.6155 - accuracy: 0.6500\n",
      "Epoch 53/150\n",
      " - 0s - loss: 0.6102 - accuracy: 0.6500\n",
      "Epoch 54/150\n",
      " - 0s - loss: 0.6052 - accuracy: 0.6500\n",
      "Epoch 55/150\n",
      " - 0s - loss: 0.6004 - accuracy: 0.6500\n",
      "Epoch 56/150\n",
      " - 0s - loss: 0.5960 - accuracy: 0.6500\n",
      "Epoch 57/150\n",
      " - 0s - loss: 0.5916 - accuracy: 0.6500\n",
      "Epoch 58/150\n",
      " - 0s - loss: 0.5873 - accuracy: 0.6500\n",
      "Epoch 59/150\n",
      " - 0s - loss: 0.5832 - accuracy: 0.6500\n",
      "Epoch 60/150\n",
      " - 0s - loss: 0.5792 - accuracy: 0.6500\n",
      "Epoch 61/150\n",
      " - 0s - loss: 0.5752 - accuracy: 0.6500\n",
      "Epoch 62/150\n",
      " - 0s - loss: 0.5715 - accuracy: 0.6500\n",
      "Epoch 63/150\n",
      " - 0s - loss: 0.5677 - accuracy: 0.6500\n",
      "Epoch 64/150\n",
      " - 0s - loss: 0.5641 - accuracy: 0.6500\n",
      "Epoch 65/150\n",
      " - 0s - loss: 0.5606 - accuracy: 0.6500\n",
      "Epoch 66/150\n",
      " - 0s - loss: 0.5572 - accuracy: 0.6500\n",
      "Epoch 67/150\n",
      " - 0s - loss: 0.5540 - accuracy: 0.6500\n",
      "Epoch 68/150\n",
      " - 0s - loss: 0.5510 - accuracy: 0.6500\n",
      "Epoch 69/150\n",
      " - 0s - loss: 0.5482 - accuracy: 0.6500\n",
      "Epoch 70/150\n",
      " - 0s - loss: 0.5454 - accuracy: 0.6500\n",
      "Epoch 71/150\n",
      " - 0s - loss: 0.5426 - accuracy: 0.6500\n",
      "Epoch 72/150\n",
      " - 0s - loss: 0.5399 - accuracy: 0.6500\n",
      "Epoch 73/150\n",
      " - 0s - loss: 0.5373 - accuracy: 0.6500\n",
      "Epoch 74/150\n",
      " - 0s - loss: 0.5348 - accuracy: 0.6500\n",
      "Epoch 75/150\n",
      " - 0s - loss: 0.5323 - accuracy: 0.6500\n",
      "Epoch 76/150\n",
      " - 0s - loss: 0.5300 - accuracy: 0.6500\n",
      "Epoch 77/150\n",
      " - 0s - loss: 0.5276 - accuracy: 0.6500\n",
      "Epoch 78/150\n",
      " - 0s - loss: 0.5255 - accuracy: 0.6500\n",
      "Epoch 79/150\n",
      " - 0s - loss: 0.5231 - accuracy: 0.6500\n",
      "Epoch 80/150\n",
      " - 0s - loss: 0.5209 - accuracy: 0.6500\n",
      "Epoch 81/150\n",
      " - 0s - loss: 0.5189 - accuracy: 0.6500\n",
      "Epoch 82/150\n",
      " - 0s - loss: 0.5167 - accuracy: 0.6500\n",
      "Epoch 83/150\n",
      " - 0s - loss: 0.5146 - accuracy: 0.6500\n",
      "Epoch 84/150\n",
      " - 0s - loss: 0.5126 - accuracy: 0.6500\n",
      "Epoch 85/150\n",
      " - 0s - loss: 0.5106 - accuracy: 0.6500\n",
      "Epoch 86/150\n",
      " - 0s - loss: 0.5087 - accuracy: 0.6500\n",
      "Epoch 87/150\n",
      " - 0s - loss: 0.5068 - accuracy: 0.6500\n",
      "Epoch 88/150\n",
      " - 0s - loss: 0.5051 - accuracy: 0.6500\n",
      "Epoch 89/150\n",
      " - 0s - loss: 0.5033 - accuracy: 0.6500\n",
      "Epoch 90/150\n",
      " - 0s - loss: 0.5015 - accuracy: 0.6500\n",
      "Epoch 91/150\n",
      " - 0s - loss: 0.4999 - accuracy: 0.6500\n",
      "Epoch 92/150\n",
      " - 0s - loss: 0.4982 - accuracy: 0.6500\n",
      "Epoch 93/150\n",
      " - 0s - loss: 0.4966 - accuracy: 0.6500\n",
      "Epoch 94/150\n",
      " - 0s - loss: 0.4949 - accuracy: 0.6500\n",
      "Epoch 95/150\n",
      " - 0s - loss: 0.4933 - accuracy: 0.6500\n",
      "Epoch 96/150\n",
      " - 0s - loss: 0.4916 - accuracy: 0.6500\n",
      "Epoch 97/150\n",
      " - 0s - loss: 0.4899 - accuracy: 0.6500\n",
      "Epoch 98/150\n",
      " - 0s - loss: 0.4883 - accuracy: 0.6500\n",
      "Epoch 99/150\n",
      " - 0s - loss: 0.4870 - accuracy: 0.6500\n",
      "Epoch 100/150\n",
      " - 0s - loss: 0.4851 - accuracy: 0.6500\n",
      "Epoch 101/150\n",
      " - 0s - loss: 0.4838 - accuracy: 0.6500\n",
      "Epoch 102/150\n",
      " - 0s - loss: 0.4822 - accuracy: 0.6500\n",
      "Epoch 103/150\n",
      " - 0s - loss: 0.4807 - accuracy: 0.6500\n",
      "Epoch 104/150\n",
      " - 0s - loss: 0.4792 - accuracy: 0.6500\n",
      "Epoch 105/150\n",
      " - 0s - loss: 0.4777 - accuracy: 0.6500\n",
      "Epoch 106/150\n",
      " - 0s - loss: 0.4764 - accuracy: 0.6500\n",
      "Epoch 107/150\n",
      " - 0s - loss: 0.4754 - accuracy: 0.6500\n",
      "Epoch 108/150\n",
      " - 0s - loss: 0.4738 - accuracy: 0.6500\n",
      "Epoch 109/150\n",
      " - 0s - loss: 0.4724 - accuracy: 0.6500\n",
      "Epoch 110/150\n",
      " - 0s - loss: 0.4710 - accuracy: 0.6500\n",
      "Epoch 111/150\n",
      " - 0s - loss: 0.4700 - accuracy: 0.6500\n",
      "Epoch 112/150\n",
      " - 0s - loss: 0.4686 - accuracy: 0.6500\n",
      "Epoch 113/150\n",
      " - 0s - loss: 0.4673 - accuracy: 0.6500\n",
      "Epoch 114/150\n",
      " - 0s - loss: 0.4661 - accuracy: 0.6500\n",
      "Epoch 115/150\n",
      " - 0s - loss: 0.4648 - accuracy: 0.6500\n",
      "Epoch 116/150\n",
      " - 0s - loss: 0.4636 - accuracy: 0.6500\n",
      "Epoch 117/150\n",
      " - 0s - loss: 0.4623 - accuracy: 0.6500\n",
      "Epoch 118/150\n",
      " - 0s - loss: 0.4614 - accuracy: 0.6500\n",
      "Epoch 119/150\n",
      " - 0s - loss: 0.4605 - accuracy: 0.6500\n",
      "Epoch 120/150\n",
      " - 0s - loss: 0.4590 - accuracy: 0.6500\n",
      "Epoch 121/150\n",
      " - 0s - loss: 0.4573 - accuracy: 0.6500\n",
      "Epoch 122/150\n",
      " - 0s - loss: 0.4555 - accuracy: 0.6600\n",
      "Epoch 123/150\n",
      " - 0s - loss: 0.4541 - accuracy: 0.6800\n",
      "Epoch 124/150\n",
      " - 0s - loss: 0.4526 - accuracy: 0.6800\n",
      "Epoch 125/150\n",
      " - 0s - loss: 0.4513 - accuracy: 0.6800\n",
      "Epoch 126/150\n",
      " - 0s - loss: 0.4498 - accuracy: 0.6900\n",
      "Epoch 127/150\n",
      " - 0s - loss: 0.4482 - accuracy: 0.7000\n",
      "Epoch 128/150\n",
      " - 0s - loss: 0.4466 - accuracy: 0.7000\n",
      "Epoch 129/150\n",
      " - 0s - loss: 0.4451 - accuracy: 0.7200\n",
      "Epoch 130/150\n",
      " - 0s - loss: 0.4436 - accuracy: 0.7200\n",
      "Epoch 131/150\n",
      " - 0s - loss: 0.4420 - accuracy: 0.7500\n",
      "Epoch 132/150\n",
      " - 0s - loss: 0.4405 - accuracy: 0.8000\n",
      "Epoch 133/150\n",
      " - 0s - loss: 0.4394 - accuracy: 0.8300\n",
      "Epoch 134/150\n",
      " - 0s - loss: 0.4380 - accuracy: 0.8300\n",
      "Epoch 135/150\n",
      " - 0s - loss: 0.4366 - accuracy: 0.8400\n",
      "Epoch 136/150\n",
      " - 0s - loss: 0.4351 - accuracy: 0.8500\n",
      "Epoch 137/150\n",
      " - 0s - loss: 0.4339 - accuracy: 0.8900\n",
      "Epoch 138/150\n",
      " - 0s - loss: 0.4326 - accuracy: 0.9000\n",
      "Epoch 139/150\n",
      " - 0s - loss: 0.4312 - accuracy: 0.9000\n",
      "Epoch 140/150\n",
      " - 0s - loss: 0.4297 - accuracy: 0.9000\n",
      "Epoch 141/150\n",
      " - 0s - loss: 0.4285 - accuracy: 0.9000\n",
      "Epoch 142/150\n",
      " - 0s - loss: 0.4271 - accuracy: 0.9100\n",
      "Epoch 143/150\n",
      " - 0s - loss: 0.4258 - accuracy: 0.9200\n",
      "Epoch 144/150\n",
      " - 0s - loss: 0.4242 - accuracy: 0.9200\n",
      "Epoch 145/150\n",
      " - 0s - loss: 0.4223 - accuracy: 0.9200\n",
      "Epoch 146/150\n",
      " - 0s - loss: 0.4206 - accuracy: 0.9200\n",
      "Epoch 147/150\n",
      " - 0s - loss: 0.4187 - accuracy: 0.9000\n",
      "Epoch 148/150\n",
      " - 0s - loss: 0.4169 - accuracy: 0.9000\n",
      "Epoch 149/150\n",
      " - 0s - loss: 0.4152 - accuracy: 0.9000\n",
      "Epoch 150/150\n",
      " - 0s - loss: 0.4139 - accuracy: 0.9000\n"
     ]
    },
    {
     "data": {
      "text/plain": [
       "<keras.callbacks.callbacks.History at 0x13df81650>"
      ]
     },
     "execution_count": 29,
     "metadata": {},
     "output_type": "execute_result"
    }
   ],
   "source": [
    "# Play around with number of epochs as well!\n",
    "model.fit(scaled_X_train,y_train,epochs=150, verbose=2)"
   ]
  },
  {
   "cell_type": "markdown",
   "metadata": {},
   "source": [
    "## Predicting New Unseen Data"
   ]
  },
  {
   "cell_type": "code",
   "execution_count": 28,
   "metadata": {},
   "outputs": [],
   "source": [
    "#scaled_X_test"
   ]
  },
  {
   "cell_type": "code",
   "execution_count": 48,
   "metadata": {},
   "outputs": [],
   "source": [
    "# Spits out probabilities by default.\n",
    "# model.predict(scaled_X_test)"
   ]
  },
  {
   "cell_type": "code",
   "execution_count": 30,
   "metadata": {},
   "outputs": [
    {
     "data": {
      "text/plain": [
       "array([1, 0, 2, 2, 2, 0, 1, 2, 2, 1, 2, 0, 0, 0, 0, 1, 2, 1, 1, 2, 0, 2,\n",
       "       0, 2, 2, 2, 2, 2, 0, 0, 0, 0, 1, 0, 0, 2, 1, 0, 0, 0, 2, 1, 1, 0,\n",
       "       0, 1, 2, 2, 1, 2])"
      ]
     },
     "execution_count": 30,
     "metadata": {},
     "output_type": "execute_result"
    }
   ],
   "source": [
    "model.predict_classes(scaled_X_test)"
   ]
  },
  {
   "cell_type": "markdown",
   "metadata": {},
   "source": [
    "# Evaluating Model Performance\n",
    "\n",
    "So how well did we do? How do we actually measure \"well\". Is 95% accuracy good enough? It all depends on the situation. Also we need to take into account things like recall and precision."
   ]
  },
  {
   "cell_type": "code",
   "execution_count": 31,
   "metadata": {},
   "outputs": [
    {
     "data": {
      "text/plain": [
       "['loss', 'accuracy']"
      ]
     },
     "execution_count": 31,
     "metadata": {},
     "output_type": "execute_result"
    }
   ],
   "source": [
    "model.metrics_names"
   ]
  },
  {
   "cell_type": "code",
   "execution_count": 32,
   "metadata": {},
   "outputs": [
    {
     "name": "stdout",
     "output_type": "stream",
     "text": [
      "50/50 [==============================] - 0s 652us/step\n",
      "50/50 [==============================] - 0s 111us/step\n"
     ]
    },
    {
     "data": {
      "text/plain": [
       "[0.3577307343482971, 0.9399999976158142]"
      ]
     },
     "execution_count": 32,
     "metadata": {},
     "output_type": "execute_result"
    }
   ],
   "source": [
    "model.evaluate(x=scaled_X_test,y=y_test)\n",
    "model.evaluate(x=scaled_X_test, y=y_test)"
   ]
  },
  {
   "cell_type": "code",
   "execution_count": 33,
   "metadata": {},
   "outputs": [],
   "source": [
    "from sklearn.metrics import confusion_matrix,classification_report"
   ]
  },
  {
   "cell_type": "code",
   "execution_count": 34,
   "metadata": {},
   "outputs": [],
   "source": [
    "predictions = model.predict_classes(scaled_X_test)"
   ]
  },
  {
   "cell_type": "code",
   "execution_count": 35,
   "metadata": {},
   "outputs": [
    {
     "data": {
      "text/plain": [
       "array([1, 0, 2, 2, 2, 0, 1, 2, 2, 1, 2, 0, 0, 0, 0, 1, 2, 1, 1, 2, 0, 2,\n",
       "       0, 2, 2, 2, 2, 2, 0, 0, 0, 0, 1, 0, 0, 2, 1, 0, 0, 0, 2, 1, 1, 0,\n",
       "       0, 1, 2, 2, 1, 2])"
      ]
     },
     "execution_count": 35,
     "metadata": {},
     "output_type": "execute_result"
    }
   ],
   "source": [
    "predictions"
   ]
  },
  {
   "cell_type": "code",
   "execution_count": 36,
   "metadata": {},
   "outputs": [
    {
     "data": {
      "text/plain": [
       "array([1, 0, 2, 1, 1, 0, 1, 2, 1, 1, 2, 0, 0, 0, 0, 1, 2, 1, 1, 2, 0, 2,\n",
       "       0, 2, 2, 2, 2, 2, 0, 0, 0, 0, 1, 0, 0, 2, 1, 0, 0, 0, 2, 1, 1, 0,\n",
       "       0, 1, 2, 2, 1, 2])"
      ]
     },
     "execution_count": 36,
     "metadata": {},
     "output_type": "execute_result"
    }
   ],
   "source": [
    "y_test.argmax(axis=1)"
   ]
  },
  {
   "cell_type": "code",
   "execution_count": 37,
   "metadata": {},
   "outputs": [
    {
     "data": {
      "text/plain": [
       "array([[19,  0,  0],\n",
       "       [ 0, 12,  3],\n",
       "       [ 0,  0, 16]])"
      ]
     },
     "execution_count": 37,
     "metadata": {},
     "output_type": "execute_result"
    }
   ],
   "source": [
    "confusion_matrix(y_test.argmax(axis=1),predictions)"
   ]
  },
  {
   "cell_type": "code",
   "execution_count": 38,
   "metadata": {},
   "outputs": [
    {
     "name": "stdout",
     "output_type": "stream",
     "text": [
      "              precision    recall  f1-score   support\n",
      "\n",
      "           0       1.00      1.00      1.00        19\n",
      "           1       1.00      0.80      0.89        15\n",
      "           2       0.84      1.00      0.91        16\n",
      "\n",
      "    accuracy                           0.94        50\n",
      "   macro avg       0.95      0.93      0.93        50\n",
      "weighted avg       0.95      0.94      0.94        50\n",
      "\n"
     ]
    }
   ],
   "source": [
    "print(classification_report(y_test.argmax(axis=1),predictions))"
   ]
  },
  {
   "cell_type": "markdown",
   "metadata": {},
   "source": [
    "## Saving and Loading Models\n",
    "\n",
    "Now that we have a model trained, let's see how we can save and load it."
   ]
  },
  {
   "cell_type": "code",
   "execution_count": 39,
   "metadata": {},
   "outputs": [],
   "source": [
    "model.save('myfirstmodel.h5')"
   ]
  },
  {
   "cell_type": "code",
   "execution_count": 40,
   "metadata": {},
   "outputs": [],
   "source": [
    "from keras.models import load_model"
   ]
  },
  {
   "cell_type": "code",
   "execution_count": 41,
   "metadata": {},
   "outputs": [],
   "source": [
    "newmodel = load_model('myfirstmodel.h5')"
   ]
  },
  {
   "cell_type": "code",
   "execution_count": 42,
   "metadata": {},
   "outputs": [
    {
     "data": {
      "text/plain": [
       "array([2, 0, 2, 2, 2, 0, 2, 2, 2, 2, 2, 0, 0, 0, 0, 2, 2, 2, 2, 2, 0, 2,\n",
       "       0, 2, 2, 2, 2, 2, 0, 0, 0, 0, 2, 0, 0, 2, 2, 0, 0, 0, 2, 2, 2, 0,\n",
       "       0, 2, 2, 2, 2, 2])"
      ]
     },
     "execution_count": 42,
     "metadata": {},
     "output_type": "execute_result"
    }
   ],
   "source": [
    "newmodel.predict_classes(X_test)"
   ]
  }
 ],
 "metadata": {
  "kernelspec": {
   "display_name": "Python 3",
   "language": "python",
   "name": "python3"
  },
  "language_info": {
   "codemirror_mode": {
    "name": "ipython",
    "version": 3
   },
   "file_extension": ".py",
   "mimetype": "text/x-python",
   "name": "python",
   "nbconvert_exporter": "python",
   "pygments_lexer": "ipython3",
   "version": "3.7.4"
  }
 },
 "nbformat": 4,
 "nbformat_minor": 2
}
